{
 "cells": [
  {
   "cell_type": "code",
   "execution_count": 2,
   "metadata": {},
   "outputs": [
    {
     "name": "stderr",
     "output_type": "stream",
     "text": [
      "C:\\ProgramData\\Anaconda3\\lib\\site-packages\\h5py\\__init__.py:36: FutureWarning: Conversion of the second argument of issubdtype from `float` to `np.floating` is deprecated. In future, it will be treated as `np.float64 == np.dtype(float).type`.\n",
      "  from ._conv import register_converters as _register_converters\n",
      "Using TensorFlow backend.\n"
     ]
    }
   ],
   "source": [
    "import pandas as pd\n",
    "import numpy as np\n",
    "import matplotlib.pyplot as plt\n",
    "plt.rc(\"font\", size=14)\n",
    "import seaborn as sns\n",
    "from itertools import cycle\n",
    "from scipy import interp\n",
    "\n",
    "#import sklearn.model_selection \n",
    "from sklearn.model_selection import train_test_split, KFold, StratifiedKFold, cross_val_score, cross_validate\n",
    "\n",
    "from sklearn.feature_selection import RFE\n",
    "\n",
    "from sklearn import metrics\n",
    "from sklearn.metrics import precision_recall_fscore_support, roc_auc_score, precision_recall_curve, roc_curve, auc, confusion_matrix, make_scorer, accuracy_score, precision_score, recall_score, f1_score\n",
    "\n",
    "from sklearn.preprocessing import OneHotEncoder, LabelEncoder\n",
    "\n",
    "from sklearn import svm\n",
    "from sklearn.linear_model import LogisticRegression\n",
    "from sklearn.ensemble import RandomForestClassifier, ExtraTreesClassifier, AdaBoostClassifier\n",
    "from xgboost import XGBClassifier\n",
    "from imblearn.ensemble import BalancedRandomForestClassifier\n",
    "\n",
    "import warnings\n",
    "warnings.filterwarnings('ignore')\n",
    "\n",
    "%matplotlib inline"
   ]
  },
  {
   "cell_type": "code",
   "execution_count": 3,
   "metadata": {},
   "outputs": [],
   "source": [
    "train_data=pd.read_csv('Training Data.csv')\n",
    "test_data=pd.read_csv('Test Data.csv')"
   ]
  },
  {
   "cell_type": "code",
   "execution_count": 4,
   "metadata": {},
   "outputs": [
    {
     "data": {
      "text/html": [
       "<div>\n",
       "<style scoped>\n",
       "    .dataframe tbody tr th:only-of-type {\n",
       "        vertical-align: middle;\n",
       "    }\n",
       "\n",
       "    .dataframe tbody tr th {\n",
       "        vertical-align: top;\n",
       "    }\n",
       "\n",
       "    .dataframe thead th {\n",
       "        text-align: right;\n",
       "    }\n",
       "</style>\n",
       "<table border=\"1\" class=\"dataframe\">\n",
       "  <thead>\n",
       "    <tr style=\"text-align: right;\">\n",
       "      <th></th>\n",
       "      <th>patient_id</th>\n",
       "      <th>Age</th>\n",
       "      <th>Gender</th>\n",
       "      <th>Prescription_period</th>\n",
       "      <th>Diabetes</th>\n",
       "      <th>Alcoholism</th>\n",
       "      <th>HyperTension</th>\n",
       "      <th>Smokes</th>\n",
       "      <th>Tuberculosis</th>\n",
       "      <th>Sms_Reminder</th>\n",
       "      <th>Adherence</th>\n",
       "    </tr>\n",
       "  </thead>\n",
       "  <tbody>\n",
       "    <tr>\n",
       "      <th>0</th>\n",
       "      <td>1</td>\n",
       "      <td>19</td>\n",
       "      <td>M</td>\n",
       "      <td>7</td>\n",
       "      <td>0</td>\n",
       "      <td>0</td>\n",
       "      <td>0</td>\n",
       "      <td>0</td>\n",
       "      <td>0</td>\n",
       "      <td>0</td>\n",
       "      <td>No</td>\n",
       "    </tr>\n",
       "    <tr>\n",
       "      <th>1</th>\n",
       "      <td>2</td>\n",
       "      <td>24</td>\n",
       "      <td>F</td>\n",
       "      <td>59</td>\n",
       "      <td>0</td>\n",
       "      <td>0</td>\n",
       "      <td>0</td>\n",
       "      <td>0</td>\n",
       "      <td>0</td>\n",
       "      <td>0</td>\n",
       "      <td>No</td>\n",
       "    </tr>\n",
       "    <tr>\n",
       "      <th>2</th>\n",
       "      <td>3</td>\n",
       "      <td>4</td>\n",
       "      <td>F</td>\n",
       "      <td>43</td>\n",
       "      <td>0</td>\n",
       "      <td>0</td>\n",
       "      <td>0</td>\n",
       "      <td>0</td>\n",
       "      <td>0</td>\n",
       "      <td>0</td>\n",
       "      <td>No</td>\n",
       "    </tr>\n",
       "    <tr>\n",
       "      <th>3</th>\n",
       "      <td>4</td>\n",
       "      <td>38</td>\n",
       "      <td>M</td>\n",
       "      <td>66</td>\n",
       "      <td>0</td>\n",
       "      <td>0</td>\n",
       "      <td>0</td>\n",
       "      <td>0</td>\n",
       "      <td>0</td>\n",
       "      <td>1</td>\n",
       "      <td>No</td>\n",
       "    </tr>\n",
       "    <tr>\n",
       "      <th>4</th>\n",
       "      <td>5</td>\n",
       "      <td>46</td>\n",
       "      <td>F</td>\n",
       "      <td>98</td>\n",
       "      <td>0</td>\n",
       "      <td>0</td>\n",
       "      <td>0</td>\n",
       "      <td>0</td>\n",
       "      <td>0</td>\n",
       "      <td>1</td>\n",
       "      <td>No</td>\n",
       "    </tr>\n",
       "  </tbody>\n",
       "</table>\n",
       "</div>"
      ],
      "text/plain": [
       "   patient_id  Age Gender  Prescription_period  Diabetes  Alcoholism  \\\n",
       "0           1   19      M                    7         0           0   \n",
       "1           2   24      F                   59         0           0   \n",
       "2           3    4      F                   43         0           0   \n",
       "3           4   38      M                   66         0           0   \n",
       "4           5   46      F                   98         0           0   \n",
       "\n",
       "   HyperTension  Smokes  Tuberculosis  Sms_Reminder Adherence  \n",
       "0             0       0             0             0        No  \n",
       "1             0       0             0             0        No  \n",
       "2             0       0             0             0        No  \n",
       "3             0       0             0             1        No  \n",
       "4             0       0             0             1        No  "
      ]
     },
     "execution_count": 4,
     "metadata": {},
     "output_type": "execute_result"
    }
   ],
   "source": [
    "train_data.head()"
   ]
  },
  {
   "cell_type": "code",
   "execution_count": 5,
   "metadata": {},
   "outputs": [
    {
     "data": {
      "text/plain": [
       "Index(['patient_id', 'Age', 'Gender', 'Prescription_period', 'Diabetes',\n",
       "       'Alcoholism', 'HyperTension', 'Smokes', 'Tuberculosis', 'Sms_Reminder',\n",
       "       'Adherence'],\n",
       "      dtype='object')"
      ]
     },
     "execution_count": 5,
     "metadata": {},
     "output_type": "execute_result"
    }
   ],
   "source": [
    "train_data.columns"
   ]
  },
  {
   "cell_type": "code",
   "execution_count": 6,
   "metadata": {},
   "outputs": [
    {
     "name": "stdout",
     "output_type": "stream",
     "text": [
      "<class 'pandas.core.frame.DataFrame'>\n",
      "RangeIndex: 180212 entries, 0 to 180211\n",
      "Data columns (total 11 columns):\n",
      "patient_id             180212 non-null int64\n",
      "Age                    180212 non-null int64\n",
      "Gender                 180212 non-null object\n",
      "Prescription_period    180212 non-null int64\n",
      "Diabetes               180212 non-null int64\n",
      "Alcoholism             180212 non-null int64\n",
      "HyperTension           180212 non-null int64\n",
      "Smokes                 180212 non-null int64\n",
      "Tuberculosis           180212 non-null int64\n",
      "Sms_Reminder           180212 non-null int64\n",
      "Adherence              180212 non-null object\n",
      "dtypes: int64(9), object(2)\n",
      "memory usage: 15.1+ MB\n"
     ]
    }
   ],
   "source": [
    "train_data.info()"
   ]
  },
  {
   "cell_type": "code",
   "execution_count": 7,
   "metadata": {},
   "outputs": [
    {
     "data": {
      "text/plain": [
       "<matplotlib.axes._subplots.AxesSubplot at 0x22f8ead90f0>"
      ]
     },
     "execution_count": 7,
     "metadata": {},
     "output_type": "execute_result"
    },
    {
     "data": {
      "image/png": "[encoded data removed]",
      "text/plain": [
       "<Figure size 432x288 with 1 Axes>"
      ]
     },
     "metadata": {},
     "output_type": "display_data"
    }
   ],
   "source": [
    "sns.set_style('whitegrid')\n",
    "sns.countplot(x='Adherence',data=train_data,palette='RdBu_r')"
   ]
  },
  {
   "cell_type": "code",
   "execution_count": 8,
   "metadata": {},
   "outputs": [],
   "source": [
    "#convert objects to category using Label Encoder\n",
    "label = LabelEncoder()\n",
    "\n",
    "def Label_Encoding(data,var_mod):\n",
    "    for i in var_mod:\n",
    "        data[i] = label.fit_transform(data[i])\n",
    "    return data    "
   ]
  },
  {
   "cell_type": "code",
   "execution_count": 9,
   "metadata": {},
   "outputs": [],
   "source": [
    "train_data=Label_Encoding(train_data,['Gender','Adherence'])\n",
    "test_data=Label_Encoding(test_data,['Gender'])"
   ]
  },
  {
   "cell_type": "code",
   "execution_count": 10,
   "metadata": {},
   "outputs": [
    {
     "data": {
      "image/png": "[encoded data removed]",
      "text/plain": [
       "<Figure size 720x720 with 2 Axes>"
      ]
     },
     "metadata": {},
     "output_type": "display_data"
    }
   ],
   "source": [
    "corrmat = train_data.corr()\n",
    "top_corr_features = corrmat.index\n",
    "plt.figure(figsize = (10,10))\n",
    "#plot heat map\n",
    "g = sns.heatmap(train_data[top_corr_features].corr(),annot = True, cmap=\"RdYlGn\")"
   ]
  },
  {
   "cell_type": "markdown",
   "metadata": {},
   "source": [
    "#  Test-train split"
   ]
  },
  {
   "cell_type": "code",
   "execution_count": 11,
   "metadata": {},
   "outputs": [],
   "source": [
    "X=train_data[['Age', 'Gender', 'Prescription_period', 'Diabetes',\n",
    "       'Alcoholism', 'HyperTension', 'Smokes', 'Tuberculosis', 'Sms_Reminder']]\n",
    "y=train_data['Adherence']\n",
    "train_X, val_X, train_y, val_y = train_test_split(X, y, random_state = 0, test_size = 0.3)"
   ]
  },
  {
   "cell_type": "code",
   "execution_count": 12,
   "metadata": {},
   "outputs": [
    {
     "name": "stdout",
     "output_type": "stream",
     "text": [
      "[1.16050735e-01 1.98998940e-03 8.70225997e-01 1.30920069e-03\n",
      " 9.71813153e-04 3.74431744e-03 1.23371707e-03 1.23037343e-04\n",
      " 4.35119368e-03]\n"
     ]
    },
    {
     "data": {
      "image/png": "[encoded data removed]",
      "text/plain": [
       "<Figure size 432x288 with 1 Axes>"
      ]
     },
     "metadata": {},
     "output_type": "display_data"
    },
    {
     "name": "stdout",
     "output_type": "stream",
     "text": [
      "Prescription_period    0.870226\n",
      "Age                    0.116051\n",
      "Sms_Reminder           0.004351\n",
      "HyperTension           0.003744\n",
      "Gender                 0.001990\n",
      "Diabetes               0.001309\n",
      "Smokes                 0.001234\n",
      "Alcoholism             0.000972\n",
      "Tuberculosis           0.000123\n",
      "dtype: float64\n"
     ]
    }
   ],
   "source": [
    "from sklearn.ensemble import ExtraTreesClassifier\n",
    "\n",
    "model = ExtraTreesClassifier()\n",
    "model.fit(X, y)\n",
    "\n",
    "print(model.feature_importances_) #use inbuilt class feature_importances of tree based classifiers\n",
    "\n",
    "#plot graph of feature importances for better visualization\n",
    "feat_importances = pd.Series(model.feature_importances_, index = X.columns)\n",
    "feat_importances.nlargest(10).plot(kind = 'barh')\n",
    "plt.show()\n",
    "\n",
    "#Create a series with feature importances:\n",
    "cols=['Age', 'Gender', 'Prescription_period', 'Diabetes',\n",
    "       'Alcoholism', 'HyperTension', 'Smokes', 'Tuberculosis', 'Sms_Reminder']\n",
    "featimp = pd.Series(model.feature_importances_, index=cols).sort_values(ascending=False)\n",
    "print (featimp)"
   ]
  },
  {
   "cell_type": "markdown",
   "metadata": {},
   "source": [
    "# Cross-validate"
   ]
  },
  {
   "cell_type": "code",
   "execution_count": 13,
   "metadata": {},
   "outputs": [],
   "source": [
    "# Cross Validation to test and anticipate overfitting problem\n",
    "def crossvalidate(clf, X,y):\n",
    "    scores1 = cross_val_score(clf, X, y, cv = 10, scoring = 'precision')\n",
    "    scores2 = cross_val_score(clf, X, y, cv = 10, scoring = 'recall')\n",
    "    scores3 = cross_val_score(clf, X, y, cv = 10, scoring = 'roc_auc')\n",
    "    # The mean score and standard deviation of the score estimate\n",
    "    print(\"Cross Validation Precision: %0.2f (+/- %0.2f)\" % (scores1.mean(), scores1.std()))\n",
    "    print(\"Cross Validation Recall: %0.2f (+/- %0.2f)\" % (scores2.mean(), scores2.std()))\n",
    "    print(\"Cross Validation roc_auc: %0.2f (+/- %0.2f)\" % (scores3.mean(), scores3.std()))\n",
    "    # Create and print confusion matrix"
   ]
  },
  {
   "cell_type": "code",
   "execution_count": 14,
   "metadata": {},
   "outputs": [
    {
     "name": "stdout",
     "output_type": "stream",
     "text": [
      "LR\n",
      "Cross Validation Precision: 0.79 (+/- 0.00)\n",
      "Cross Validation Recall: 0.82 (+/- 0.01)\n",
      "Cross Validation roc_auc: 0.90 (+/- 0.00)\n"
     ]
    }
   ],
   "source": [
    "print(\"LR\")\n",
    "lr = LogisticRegression()\n",
    "crossvalidate(lr, X, y)\n"
   ]
  },
  {
   "cell_type": "markdown",
   "metadata": {},
   "source": [
    "# Cross-validate Imbalanced Data"
   ]
  },
  {
   "cell_type": "code",
   "execution_count": 15,
   "metadata": {},
   "outputs": [],
   "source": [
    "def pr_auc_score(clf, X, y):\n",
    "    '''\n",
    "        This function computes area under the precision-recall curve. \n",
    "    '''\n",
    "    precisions, recalls,_ = precision_recall_curve(y, clf.predict_proba(X)[:,1], pos_label = 1)\n",
    "    \n",
    "    return auc(recalls, precisions)"
   ]
  },
  {
   "cell_type": "code",
   "execution_count": 16,
   "metadata": {},
   "outputs": [],
   "source": [
    "def imbalanced_cross_validation_score(clf, X, y, cv, scoring, sampler):\n",
    "    '''\n",
    "        This function computes the cross-validation score of a given \n",
    "        classifier using a choice of sampling function to mitigate \n",
    "        the class imbalance, and stratified k-fold sampling.\n",
    "        \n",
    "        The first five arguments are the same as \n",
    "        sklearn.model_selection.cross_val_score.\n",
    "        \n",
    "        - clf.predict_proba(x) returns class label probabilities\n",
    "        - clf.fit(x,y) trains the model\n",
    "        \n",
    "        - x = data\n",
    "        \n",
    "        - y = labels\n",
    "        \n",
    "        - cv = the number of folds in the cross validation\n",
    "        \n",
    "        - scoring(classifier, x, y) returns a float\n",
    "        \n",
    "        The last argument is a choice of random sampler: an object \n",
    "        similar to the sampler objects available from the python \n",
    "        package imbalanced-learn. In particular, this \n",
    "        object needs to have the method:\n",
    "        \n",
    "        sampler.fit_sample(x,y)\n",
    "        \n",
    "        See http://contrib.scikit-learn.org/imbalanced-learn/\n",
    "        for more details and examples of other sampling objects \n",
    "        available.  \n",
    "    \n",
    "    '''\n",
    "    \n",
    "    cv_score = 0.\n",
    "    train_score = 0.\n",
    "    test_score = 0.\n",
    "    \n",
    "    # stratified k-fold creates folds with the same ratio of positive and negative samples as the entire dataset.\n",
    "    skf = StratifiedKFold(n_splits = cv, random_state = 0, shuffle = False)\n",
    "    \n",
    "    for train_idx, test_idx in skf.split(X, y):\n",
    "\n",
    "        xfold_train_sampled, yfold_train_sampled = sampler.fit_sample(X.iloc[train_idx],y.iloc[train_idx])\n",
    "        clf.fit(xfold_train_sampled, yfold_train_sampled)\n",
    "        \n",
    "        #clf.fit(X.iloc[train_idx], y.iloc[train_idx])\n",
    "        \n",
    "        train_score = scoring(clf, xfold_train_sampled, yfold_train_sampled)\n",
    "        \n",
    "        #train_score = scoring(clf, X.iloc[train_idx], y.iloc[train_idx])\n",
    "        \n",
    "        test_score  = scoring(clf, X.iloc[test_idx], y.iloc[test_idx])\n",
    "        \n",
    "        print(\"Train AUPRC: %.2f Test AUPRC: %.2f\"%(train_score,test_score))\n",
    "\n",
    "        cv_score += test_score\n",
    "        \n",
    "    return cv_score/cv"
   ]
  },
  {
   "cell_type": "code",
   "execution_count": 17,
   "metadata": {},
   "outputs": [],
   "source": [
    "cv = 2\n",
    "\n",
    "lr_model = LogisticRegression() # C = 1e10, class_weight = \"balanced\"\n",
    "\n",
    "RFModel = RandomForestClassifier(n_estimators = 180) #n_estimators = 180\n",
    "ETModel = ExtraTreesClassifier()\n",
    "ABModel   = AdaBoostClassifier()\n",
    "XGBModel = XGBClassifier()"
   ]
  },
  {
   "cell_type": "code",
   "execution_count": 18,
   "metadata": {},
   "outputs": [],
   "source": [
    "from imblearn.over_sampling import RandomOverSampler\n",
    "from imblearn.over_sampling import ADASYN\n",
    "from imblearn.over_sampling import SMOTE\n",
    "from imblearn.combine import SMOTETomek\n",
    "from imblearn.under_sampling import RandomUnderSampler"
   ]
  },
  {
   "cell_type": "code",
   "execution_count": 1,
   "metadata": {},
   "outputs": [],
   "source": [
    "# With Random Over-sampling\n",
    "print('Random Forest Classifier')\n",
    "print(\"Random over-sampling\")\n",
    "score = imbalanced_cross_validation_score(RFModel, X, y, cv, pr_auc_score, RandomOverSampler())\n",
    "print(\"Cross-validated AUPRC score: %.2f\"%score)\n",
    "\n",
    "# With Random Under Sampling\n",
    "print(\"Random under-sampling\")\n",
    "score = imbalanced_cross_validation_score(RFModel, X, y, cv, pr_auc_score, RandomUnderSampler())\n",
    "print(\"Cross-validated AUPRC score: %.2f\"%score)\n",
    "\n",
    "print('Logistic Regression')\n",
    "# With Random Over-sampling\n",
    "print(\"Random over-sampling\")\n",
    "score = imbalanced_cross_validation_score(lr_model, X, y, cv, pr_auc_score, RandomOverSampler())\n",
    "print(\"Cross-validated AUPRC score: %.2f\"%score)\n",
    "\n",
    "# With Random Under Sampling\n",
    "print(\"Random under-sampling\")\n",
    "score = imbalanced_cross_validation_score(lr_model, X, y, cv, pr_auc_score, RandomUnderSampler())\n",
    "print(\"Cross-validated AUPRC score: %.2f\"%score)\n",
    "\n"
   ]
  },
  {
   "cell_type": "markdown",
   "metadata": {},
   "source": [
    "# Exp-1 : Logistic Regression using traditional test-train split"
   ]
  },
  {
   "cell_type": "code",
   "execution_count": 19,
   "metadata": {},
   "outputs": [
    {
     "name": "stdout",
     "output_type": "stream",
     "text": [
      "True negatives :  30131 \n",
      "False positives :  7708 \n",
      "False negatives :  1395 \n",
      "True positives :  14830\n",
      "Accuracy: 0.8316254809115122\n",
      "(0.8068753156890726, 0.8551581998680566, 0.8169646620893345, None)\n",
      "Overall AUC: 0.855\n",
      "              precision    recall  f1-score   support\n",
      "\n",
      "           0       0.96      0.80      0.87     37839\n",
      "           1       0.66      0.91      0.77     16225\n",
      "\n",
      "    accuracy                           0.83     54064\n",
      "   macro avg       0.81      0.86      0.82     54064\n",
      "weighted avg       0.87      0.83      0.84     54064\n",
      "\n"
     ]
    },
    {
     "data": {
      "image/png": "[encoded data removed]",
      "text/plain": [
       "<Figure size 432x288 with 1 Axes>"
      ]
     },
     "metadata": {},
     "output_type": "display_data"
    }
   ],
   "source": [
    "from sklearn.linear_model import LogisticRegression\n",
    "\n",
    "# all parameters not specified are set to their defaults\n",
    "logisticRegr = LogisticRegression(class_weight = 'balanced')  #class_weight = 'balanced', C = 1e10\n",
    "logisticRegr.fit(train_X, train_y)\n",
    "pred_y = logisticRegr.predict(val_X)\n",
    "\n",
    "# Confusion matrix\n",
    "cm = metrics.confusion_matrix(val_y, pred_y)\n",
    "#print(cm)\n",
    "tn, fp, fn, tp = cm.ravel()\n",
    "print(\"True negatives : \", tn, \"\\n\" \"False positives : \", fp, \"\\n\" \"False negatives : \", fn, \"\\n\" \"True positives : \", tp)\n",
    "\n",
    "#Plotting confusion matrices\n",
    "mat = confusion_matrix(val_y, pred_y)\n",
    "sns.heatmap(mat.T, square = True, annot = True, fmt = 'd', cbar = False,  linewidths = .5)\n",
    "plt.xlabel('true label')\n",
    "plt.ylabel('predicted label');\n",
    "\n",
    "# Accuracies, f_score, roc_auc_score\n",
    "print(\"Accuracy:\",metrics.accuracy_score(val_y, pred_y))\n",
    "print(precision_recall_fscore_support(val_y, pred_y, average = 'macro'))\n",
    "\n",
    "score = roc_auc_score(val_y, pred_y)\n",
    "print(\"Overall AUC: {:.3f}\" .format(score))\n",
    "\n",
    "print(metrics.classification_report(val_y, pred_y))"
   ]
  },
  {
   "cell_type": "markdown",
   "metadata": {},
   "source": [
    "# Logistic Regression using K-Fold"
   ]
  },
  {
   "cell_type": "code",
   "execution_count": 20,
   "metadata": {},
   "outputs": [
    {
     "name": "stdout",
     "output_type": "stream",
     "text": [
      "{'fit_time': array([0.85351086, 0.84951687, 0.86150765, 0.94446015, 0.88749385,\n",
      "       0.87549996, 0.92247605, 0.71459222, 0.71357322, 0.71459079]), 'score_time': array([0.04697323, 0.04697347, 0.05097246, 0.04897237, 0.04397321,\n",
      "       0.04497361, 0.03897715, 0.04099774, 0.03597975, 0.03997517]), 'test_accuracy': array([0.87936966, 0.88197758, 0.87775373, 0.88019533, 0.88013984,\n",
      "       0.88063925, 0.88302536, 0.87875257, 0.87808668, 0.87980689]), 'test_precision': array([0.79370134, 0.78793164, 0.78997905, 0.78223696, 0.78604322,\n",
      "       0.79460618, 0.79792189, 0.78100264, 0.78730103, 0.7911733 ]), 'test_recall': array([0.81652712, 0.83219746, 0.81900452, 0.83110864, 0.82337662,\n",
      "       0.81633028, 0.81965403, 0.82527881, 0.82105071, 0.81485588]), 'test_f1_score': array([0.80495245, 0.80945982, 0.80422998, 0.80593258, 0.80427691,\n",
      "       0.80532175, 0.80864198, 0.8025305 , 0.80382177, 0.80283998])}\n"
     ]
    }
   ],
   "source": [
    "scoring = {'accuracy' : make_scorer(accuracy_score), \n",
    "           'precision' : make_scorer(precision_score),\n",
    "           'recall' : make_scorer(recall_score), \n",
    "           'f1_score' : make_scorer(f1_score)}\n",
    "\n",
    "kfold = KFold(n_splits = 10, random_state = 42)\n",
    "model = LogisticRegression() \n",
    "\n",
    "results = cross_validate(estimator = model,\n",
    "                                X = X,\n",
    "                                y = y,\n",
    "                                cv = kfold,\n",
    "                                scoring = scoring)\n",
    "\n",
    "print(results)"
   ]
  },
  {
   "cell_type": "markdown",
   "metadata": {},
   "source": [
    "# Logistic Regression using Stratified K-Fold"
   ]
  },
  {
   "cell_type": "code",
   "execution_count": 21,
   "metadata": {},
   "outputs": [
    {
     "name": "stdout",
     "output_type": "stream",
     "text": [
      "{'fit_time': array([0.70159888, 0.75257134, 0.72358775, 0.72558498, 0.73757792,\n",
      "       0.71859026, 0.74657583, 0.72159028, 0.71259236, 0.7215879 ]), 'score_time': array([0.03997588, 0.03497791, 0.03597808, 0.03997684, 0.03897882,\n",
      "       0.04497218, 0.03797817, 0.03897738, 0.03597617, 0.04697394]), 'test_accuracy': array([0.87970259, 0.88225502, 0.87858609, 0.87930747, 0.88041729,\n",
      "       0.88080573, 0.8828034 , 0.87841962, 0.87864158, 0.87947395]), 'test_precision': array([0.79137716, 0.78848495, 0.78622997, 0.78362878, 0.78867792,\n",
      "       0.79431229, 0.79795809, 0.78371768, 0.7857645 , 0.79206151]), 'test_recall': array([0.81669425, 0.83342526, 0.82092296, 0.82901269, 0.82478397,\n",
      "       0.81651039, 0.81908439, 0.82478397, 0.82202611, 0.81448796]), 'test_f1_score': array([0.80383641, 0.8103325 , 0.80320201, 0.80568212, 0.80632695,\n",
      "       0.80525839, 0.80838323, 0.8037266 , 0.80348639, 0.8031182 ])}\n"
     ]
    }
   ],
   "source": [
    "scoring = {'accuracy' : make_scorer(accuracy_score), \n",
    "           'precision' : make_scorer(precision_score),\n",
    "           'recall' : make_scorer(recall_score), \n",
    "           'f1_score' : make_scorer(f1_score)}\n",
    "\n",
    "kfold = StratifiedKFold(n_splits = 10, random_state = 42)\n",
    "model = LogisticRegression() \n",
    "\n",
    "results = cross_validate(estimator = model,\n",
    "                                X = X, \n",
    "                                y = y,  \n",
    "                                cv = kfold,\n",
    "                                scoring = scoring)\n",
    "\n",
    "print(results)"
   ]
  },
  {
   "cell_type": "markdown",
   "metadata": {},
   "source": [
    "# Random Forests Classifier using traditional test-train split"
   ]
  },
  {
   "cell_type": "code",
   "execution_count": 22,
   "metadata": {},
   "outputs": [],
   "source": [
    "from sklearn.ensemble import RandomForestClassifier\n",
    "from sklearn.model_selection import GridSearchCV"
   ]
  },
  {
   "cell_type": "code",
   "execution_count": 24,
   "metadata": {},
   "outputs": [
    {
     "name": "stdout",
     "output_type": "stream",
     "text": [
      "Sorted Feature Importance:\n",
      "[(0.8498709898155477, 'Prescription_period'), (0.12781628239475154, 'Age'), (0.0068021804670660374, 'Sms_Reminder'), (0.005359122444600978, 'Gender'), (0.0038502223022409275, 'HyperTension'), (0.002496805063129388, 'Diabetes'), (0.0020669534469308667, 'Smokes'), (0.0015937428779201534, 'Alcoholism'), (0.00014370118781234005, 'Tuberculosis')]\n",
      "[[    0 37839]\n",
      " [    1 16225]]\n",
      "[[    0 36857]\n",
      " [    1 17207]]\n",
      "Accuracy: 86.97%\n",
      "[[33826  4013]\n",
      " [ 3031 13194]]\n",
      "True negatives :  33826 \n",
      "False positives :  4013 \n",
      "False negatives :  3031 \n",
      "True positives :  13194\n",
      "(0.8422721041905374, 0.8535674612952429, 0.8475007113783087, None)\n",
      "Overall AUC: 0.854\n",
      "              precision    recall  f1-score   support\n",
      "\n",
      "           0       0.92      0.89      0.91     37839\n",
      "           1       0.77      0.81      0.79     16225\n",
      "\n",
      "    accuracy                           0.87     54064\n",
      "   macro avg       0.84      0.85      0.85     54064\n",
      "weighted avg       0.87      0.87      0.87     54064\n",
      "\n"
     ]
    },
    {
     "data": {
      "image/png": "[encoded data removed]",
      "text/plain": [
       "<Figure size 432x288 with 1 Axes>"
      ]
     },
     "metadata": {},
     "output_type": "display_data"
    }
   ],
   "source": [
    "# clf = RandomForestClassifier(n_estimators = 180)\n",
    "\n",
    "#Feature importance in Random Forests\n",
    "#------------------------------------\n",
    "clf.fit(train_X, train_y)\n",
    "importances = clf.feature_importances_\n",
    "print (\"Sorted Feature Importance:\")\n",
    "sorted_feature_importance = sorted(zip(importances, list(train_X)), reverse = True)\n",
    "print (sorted_feature_importance)\n",
    "#-----------------------------\n",
    "\n",
    "pred_y = clf.predict(val_X)\n",
    "\n",
    "unique, counts = np.unique(val_y, return_counts = True)\n",
    "print(np.asarray((unique, counts)).T)\n",
    "\n",
    "unique, counts = np.unique(pred_y, return_counts = True)\n",
    "print(np.asarray((unique, counts)).T)\n",
    "\n",
    "#Classification results\n",
    "accuracy = metrics.accuracy_score(val_y, pred_y)\n",
    "print(\"Accuracy: %.2f%%\" % (accuracy * 100.0))\n",
    "\n",
    "cm = metrics.confusion_matrix(val_y, pred_y)\n",
    "print(cm)\n",
    "tn, fp, fn, tp = cm.ravel()\n",
    "print(\"True negatives : \", tn, \"\\n\" \"False positives : \", fp, \"\\n\" \"False negatives : \", fn, \"\\n\" \"True positives : \", tp)\n",
    "\n",
    "#Plotting confusion matrices\n",
    "mat = confusion_matrix(val_y, pred_y)\n",
    "sns.heatmap(mat.T, square = True, annot = True, fmt = 'd', cbar = False)\n",
    "plt.xlabel('true label')\n",
    "plt.ylabel('predicted label');\n",
    "\n",
    "print(precision_recall_fscore_support(val_y, pred_y, average = 'macro'))  #'weighted' gives higher precision and recall\n",
    "\n",
    "score = roc_auc_score(val_y, pred_y)\n",
    "print(\"Overall AUC: {:.3f}\" .format(score))\n",
    "\n",
    "print(metrics.classification_report(val_y, pred_y))"
   ]
  },
  {
   "cell_type": "markdown",
   "metadata": {},
   "source": [
    "# Random Forests classifier using KFold"
   ]
  },
  {
   "cell_type": "code",
   "execution_count": 25,
   "metadata": {},
   "outputs": [
    {
     "name": "stdout",
     "output_type": "stream",
     "text": [
      "{'fit_time': array([32.52143168, 47.1055305 , 41.56526947, 40.66875958, 37.03085637,\n",
      "       33.7587266 , 33.11509395, 34.16151404, 39.13165307, 40.45889974]), 'score_time': array([5.36293697, 4.65833902, 4.6123848 , 5.12809277, 4.69032168,\n",
      "       4.42147303, 4.41149926, 4.41048145, 9.17676091, 5.04411936]), 'test_accuracy': array([0.8719343 , 0.87304406, 0.87148327, 0.87364741, 0.87403585,\n",
      "       0.87470174, 0.87631097, 0.87092836, 0.87237112, 0.87447977]), 'test_precision': array([0.7784965 , 0.76970634, 0.77254969, 0.76940363, 0.77291812,\n",
      "       0.77775844, 0.78040245, 0.76519625, 0.77177998, 0.77846535]), 'test_recall': array([0.81052057, 0.8255664 , 0.82316742, 0.82517612, 0.81966605,\n",
      "       0.82      , 0.82075819, 0.81895911, 0.82415177, 0.81356245]), 'test_f1_score': array([0.79418584, 0.79665837, 0.79705573, 0.79631452, 0.79560598,\n",
      "       0.79832083, 0.80007176, 0.79116538, 0.79710656, 0.79562703])}\n"
     ]
    }
   ],
   "source": [
    "scoring = {'accuracy' : make_scorer(accuracy_score), \n",
    "           'precision' : make_scorer(precision_score),\n",
    "           'recall' : make_scorer(recall_score), \n",
    "           'f1_score' : make_scorer(f1_score)}\n",
    "\n",
    "kfold = KFold(n_splits = 10, random_state = 42)\n",
    "model = RandomForestClassifier(n_estimators = 180) \n",
    "\n",
    "results = cross_validate(estimator = model,\n",
    "                                X = X,\n",
    "                                y = y,\n",
    "                                cv = kfold,\n",
    "                                scoring = scoring)\n",
    "\n",
    "print(results)"
   ]
  },
  {
   "cell_type": "code",
   "execution_count": 27,
   "metadata": {},
   "outputs": [
    {
     "name": "stdout",
     "output_type": "stream",
     "text": [
      "Test precision is:  0.7736676745906372\n",
      "Test recall is:  0.8201528081432743\n",
      "Test F1-score is:  0.7962111998839767\n"
     ]
    }
   ],
   "source": [
    "# print(\"Train precision is: \", np.mean(results['train_precision']))\n",
    "# print(\"Train recall is: \", np.mean(results['train_recall']))\n",
    "# print(\"Train F1-score is: \", np.mean(results['train_f1_score']))\n",
    "\n",
    "print(\"Test precision is: \", np.mean(results['test_precision']))\n",
    "print(\"Test recall is: \", np.mean(results['test_recall']))\n",
    "print(\"Test F1-score is: \", np.mean(results['test_f1_score']))"
   ]
  },
  {
   "cell_type": "markdown",
   "metadata": {},
   "source": [
    "# Random Forests classifier using Stratified KFold"
   ]
  },
  {
   "cell_type": "code",
   "execution_count": 28,
   "metadata": {},
   "outputs": [
    {
     "name": "stdout",
     "output_type": "stream",
     "text": [
      "{'fit_time': array([33.11309338, 32.26657438, 32.1446414 , 32.26857376, 32.54042268,\n",
      "       32.85824037, 39.66434765, 31.52000308, 32.60038686, 31.73788142]), 'score_time': array([4.29654646, 4.26358342, 4.24857712, 4.28155589, 4.33951902,\n",
      "       4.52143621, 4.23160458, 4.25157309, 4.32452989, 4.22960329]), 'test_accuracy': array([0.87298857, 0.87309955, 0.8724821 , 0.87242661, 0.87436879,\n",
      "       0.87303701, 0.87703235, 0.86976305, 0.87264858, 0.87342545]), 'test_precision': array([0.77650983, 0.77041867, 0.76933631, 0.76994498, 0.77546417,\n",
      "       0.77635503, 0.7809939 , 0.76618457, 0.77010309, 0.77848325]), 'test_recall': array([0.81320096, 0.8255194 , 0.82478397, 0.82331311, 0.82165839,\n",
      "       0.81375253, 0.82349697, 0.8181651 , 0.82404854, 0.81154624]), 'test_f1_score': array([0.79443197, 0.79701784, 0.79609583, 0.79573523, 0.79789323,\n",
      "       0.794614  , 0.80168248, 0.79132213, 0.79616307, 0.79467099])}\n"
     ]
    }
   ],
   "source": [
    "scoring = {'accuracy' : make_scorer(accuracy_score), \n",
    "           'precision' : make_scorer(precision_score),\n",
    "           'recall' : make_scorer(recall_score), \n",
    "           'f1_score' : make_scorer(f1_score)}\n",
    "\n",
    "kfold = StratifiedKFold(n_splits = 10, random_state = 42)\n",
    "model = RandomForestClassifier(n_estimators = 180) \n",
    "\n",
    "results = cross_validate(estimator = model,\n",
    "                                X = X,\n",
    "                                y = y,\n",
    "                                cv = kfold,\n",
    "                                scoring = scoring)\n",
    "print(results)"
   ]
  },
  {
   "cell_type": "code",
   "execution_count": 29,
   "metadata": {},
   "outputs": [
    {
     "name": "stdout",
     "output_type": "stream",
     "text": [
      "Test accuracy is:  0.8731272066582625\n",
      "Test precision is:  0.7733793786737108\n",
      "Test recall is:  0.8199485199485199\n",
      "Test F1-score is:  0.7959626770892955\n"
     ]
    }
   ],
   "source": [
    "print(\"Test accuracy is: \", np.mean(results['test_accuracy']))\n",
    "print(\"Test precision is: \", np.mean(results['test_precision']))\n",
    "print(\"Test recall is: \", np.mean(results['test_recall']))\n",
    "print(\"Test F1-score is: \", np.mean(results['test_f1_score']))"
   ]
  },
  {
   "cell_type": "markdown",
   "metadata": {},
   "source": [
    "# lgb Classifier"
   ]
  },
  {
   "cell_type": "code",
   "execution_count": 30,
   "metadata": {},
   "outputs": [
    {
     "ename": "ModuleNotFoundError",
     "evalue": "No module named 'lightgbm'",
     "output_type": "error",
     "traceback": [
      "\u001b[1;31m---------------------------------------------------------------------------\u001b[0m",
      "\u001b[1;31mModuleNotFoundError\u001b[0m                       Traceback (most recent call last)",
      "\u001b[1;32m<ipython-input-30-5c2eaabfe5a2>\u001b[0m in \u001b[0;36m<module>\u001b[1;34m()\u001b[0m\n\u001b[1;32m----> 1\u001b[1;33m \u001b[1;32mimport\u001b[0m \u001b[0mlightgbm\u001b[0m \u001b[1;32mas\u001b[0m \u001b[0mlgb\u001b[0m\u001b[1;33m\u001b[0m\u001b[0m\n\u001b[0m\u001b[0;32m      2\u001b[0m \u001b[1;33m\u001b[0m\u001b[0m\n\u001b[0;32m      3\u001b[0m \u001b[0mtrain_data\u001b[0m \u001b[1;33m=\u001b[0m \u001b[0mlgb\u001b[0m\u001b[1;33m.\u001b[0m\u001b[0mDataset\u001b[0m\u001b[1;33m(\u001b[0m\u001b[0mtrain_X\u001b[0m\u001b[1;33m,\u001b[0m \u001b[0mlabel\u001b[0m \u001b[1;33m=\u001b[0m \u001b[0mtrain_y\u001b[0m\u001b[1;33m)\u001b[0m\u001b[1;33m\u001b[0m\u001b[0m\n\u001b[0;32m      4\u001b[0m \u001b[0mvalid_data\u001b[0m \u001b[1;33m=\u001b[0m \u001b[0mlgb\u001b[0m\u001b[1;33m.\u001b[0m\u001b[0mDataset\u001b[0m\u001b[1;33m(\u001b[0m\u001b[0mval_X\u001b[0m\u001b[1;33m,\u001b[0m \u001b[0mlabel\u001b[0m \u001b[1;33m=\u001b[0m \u001b[0mval_y\u001b[0m\u001b[1;33m)\u001b[0m\u001b[1;33m\u001b[0m\u001b[0m\n\u001b[0;32m      5\u001b[0m \u001b[1;33m\u001b[0m\u001b[0m\n",
      "\u001b[1;31mModuleNotFoundError\u001b[0m: No module named 'lightgbm'"
     ]
    }
   ],
   "source": [
    "import lightgbm as lgb\n",
    "\n",
    "train_data = lgb.Dataset(train_X, label = train_y)\n",
    "valid_data = lgb.Dataset(val_X, label = val_y)\n",
    "\n",
    "#Select Hyper-Parameters\n",
    "params = {'metric' : 'auc',\n",
    "          'boosting_type' : 'gbdt',\n",
    "          'objective': 'binary',\n",
    "          'colsample_bytree' : 0.9234,\n",
    "          'num_leaves' : 90,\n",
    "          'max_depth' : -1,\n",
    "          'n_estimators' : 600,\n",
    "          'min_child_samples': 5, \n",
    "          'min_child_weight': 0.1,\n",
    "          'reg_alpha': 2,\n",
    "          'reg_lambda': 1,\n",
    "          'subsample': 0.855,\n",
    "          'verbose' : -1,\n",
    "          'num_threads' : 4\n",
    "}\n",
    "\n",
    "#Train model on selected parameters and number of iterations\n",
    "lgbm = lgb.train(params,\n",
    "                 train_data,\n",
    "                 3500,\n",
    "                 valid_sets = valid_data,\n",
    "                 early_stopping_rounds = 50,\n",
    "                 verbose_eval= 50\n",
    "                )"
   ]
  },
  {
   "cell_type": "markdown",
   "metadata": {},
   "source": [
    "# XGBoost Classifier"
   ]
  },
  {
   "cell_type": "code",
   "execution_count": 31,
   "metadata": {},
   "outputs": [
    {
     "name": "stdout",
     "output_type": "stream",
     "text": [
      "Accuracy: 89.36%\n",
      "[[33850  3989]\n",
      " [ 1765 14460]]\n",
      "True negatives :  33850 \n",
      "False positives :  3989 \n",
      "False negatives :  1765 \n",
      "True positives :  14460\n",
      "(0.8671122741112971, 0.8928984619003122, 0.8778597972752598, None)\n",
      "Overall AUC: 0.893\n",
      "              precision    recall  f1-score   support\n",
      "\n",
      "           0       0.95      0.89      0.92     37839\n",
      "           1       0.78      0.89      0.83     16225\n",
      "\n",
      "    accuracy                           0.89     54064\n",
      "   macro avg       0.87      0.89      0.88     54064\n",
      "weighted avg       0.90      0.89      0.90     54064\n",
      "\n"
     ]
    },
    {
     "data": {
      "image/png": "[encoded data removed]",
      "text/plain": [
       "<Figure size 432x288 with 1 Axes>"
      ]
     },
     "metadata": {},
     "output_type": "display_data"
    }
   ],
   "source": [
    "model = XGBClassifier(n_estimators = 225)\n",
    "\n",
    "#grid_values = {'n_estimators':[100,125,150,175,200,225]}\n",
    "#clf = GridSearchCV(model, param_grid = grid_values, cv = 5)\n",
    "#clf.fit(train_X, train_y)\n",
    "\n",
    "#print(clf.best_params_)\n",
    "#print(clf.best_score_)\n",
    "\n",
    "model.fit(train_X, train_y)\n",
    "\n",
    "# make predictions for test data\n",
    "pred_y = model.predict(val_X)\n",
    "#print(np.unique(pred_y))\n",
    "pred_y = [round(value) for value in pred_y]\n",
    "\n",
    "# evaluate predictions\n",
    "accuracy = metrics.accuracy_score(val_y, pred_y)\n",
    "print(\"Accuracy: %.2f%%\" % (accuracy * 100.0))\n",
    "\n",
    "cm = metrics.confusion_matrix(val_y, pred_y)\n",
    "print(cm)\n",
    "tn, fp, fn, tp = cm.ravel()\n",
    "print(\"True negatives : \", tn, \"\\n\" \"False positives : \", fp, \"\\n\" \"False negatives : \", fn, \"\\n\" \"True positives : \", tp)\n",
    "\n",
    "#Plotting confusion matrices\n",
    "mat = confusion_matrix(val_y, pred_y)\n",
    "sns.heatmap(mat.T, square = True, annot = True, fmt = 'd', cbar = False)\n",
    "plt.xlabel('true label')\n",
    "plt.ylabel('predicted label');\n",
    "\n",
    "print(precision_recall_fscore_support(val_y, pred_y, average = 'macro'))  #'weighted' gives higher precision and recall\n",
    "\n",
    "score = roc_auc_score(val_y, pred_y)\n",
    "print(\"Overall AUC: {:.3f}\" .format(score))\n",
    "\n",
    "print(metrics.classification_report(val_y, pred_y))"
   ]
  },
  {
   "cell_type": "markdown",
   "metadata": {},
   "source": [
    "# Balanced Random Forests Classifier"
   ]
  },
  {
   "cell_type": "code",
   "execution_count": 32,
   "metadata": {},
   "outputs": [
    {
     "name": "stdout",
     "output_type": "stream",
     "text": [
      "Accuracy: 89.21%\n",
      "[[33604  4235]\n",
      " [ 1599 14626]]\n",
      "True negatives :  33604 \n",
      "False positives :  4235 \n",
      "False negatives :  1599 \n",
      "True positives :  14626\n",
      "Overall AUC: 0.895\n",
      "(0.8650201648122123, 0.8947634098585968, 0.8769254989351656, None)\n",
      "              precision    recall  f1-score   support\n",
      "\n",
      "           0       0.95      0.89      0.92     37839\n",
      "           1       0.78      0.90      0.83     16225\n",
      "\n",
      "    accuracy                           0.89     54064\n",
      "   macro avg       0.87      0.89      0.88     54064\n",
      "weighted avg       0.90      0.89      0.89     54064\n",
      "\n"
     ]
    },
    {
     "data": {
      "image/png": "[encoded data removed]",
      "text/plain": [
       "<Figure size 432x288 with 1 Axes>"
      ]
     },
     "metadata": {},
     "output_type": "display_data"
    }
   ],
   "source": [
    "brfc = BalancedRandomForestClassifier(random_state = 42, n_estimators = 180)\n",
    "brfc.fit(train_X, train_y)\n",
    "pred_y = brfc.predict(val_X)\n",
    "\n",
    "# evaluate predictions\n",
    "accuracy = metrics.accuracy_score(val_y, pred_y)\n",
    "print(\"Accuracy: %.2f%%\" % (accuracy * 100.0))\n",
    "\n",
    "cm = metrics.confusion_matrix(val_y, pred_y)\n",
    "print(cm)\n",
    "tn, fp, fn, tp = cm.ravel()\n",
    "print(\"True negatives : \", tn, \"\\n\" \"False positives : \", fp, \"\\n\" \"False negatives : \", fn, \"\\n\" \"True positives : \", tp)\n",
    "\n",
    "#Plotting confusion matrices\n",
    "mat = confusion_matrix(val_y, pred_y)\n",
    "sns.heatmap(mat.T, square = True, annot = True, fmt = 'd', cbar = False)\n",
    "plt.xlabel('true label')\n",
    "plt.ylabel('predicted label');\n",
    "\n",
    "score = roc_auc_score(val_y, pred_y)\n",
    "print(\"Overall AUC: {:.3f}\" .format(score))\n",
    "\n",
    "print(precision_recall_fscore_support(val_y, pred_y, average = 'macro'))\n",
    "\n",
    "print(metrics.classification_report(val_y, pred_y))"
   ]
  },
  {
   "cell_type": "markdown",
   "metadata": {},
   "source": [
    "# Balanced Bagging classifier"
   ]
  },
  {
   "cell_type": "code",
   "execution_count": 33,
   "metadata": {},
   "outputs": [
    {
     "name": "stdout",
     "output_type": "stream",
     "text": [
      "Accuracy: 86.84%\n",
      "[[32661  5178]\n",
      " [ 1939 14286]]\n",
      "True negatives :  32661 \n",
      "False positives :  5178 \n",
      "False negatives :  1939 \n",
      "True positives :  14286\n",
      "Overall AUC: 0.872\n",
      "(0.838964972238655, 0.8718250632158935, 0.8511673157014995, None)\n",
      "              precision    recall  f1-score   support\n",
      "\n",
      "           0       0.94      0.86      0.90     37839\n",
      "           1       0.73      0.88      0.80     16225\n",
      "\n",
      "    accuracy                           0.87     54064\n",
      "   macro avg       0.84      0.87      0.85     54064\n",
      "weighted avg       0.88      0.87      0.87     54064\n",
      "\n"
     ]
    },
    {
     "data": {
      "image/png": "[encoded data removed]",
      "text/plain": [
       "<Figure size 432x288 with 1 Axes>"
      ]
     },
     "metadata": {},
     "output_type": "display_data"
    }
   ],
   "source": [
    "from imblearn.ensemble import BalancedBaggingClassifier\n",
    "\n",
    "bbc = BalancedBaggingClassifier(random_state = 42, n_estimators = 150)\n",
    "bbc.fit(train_X, train_y)\n",
    "pred_y = bbc.predict(val_X)\n",
    "\n",
    "# evaluate predictions\n",
    "accuracy = metrics.accuracy_score(val_y, pred_y)\n",
    "print(\"Accuracy: %.2f%%\" % (accuracy * 100.0))\n",
    "\n",
    "cm = metrics.confusion_matrix(val_y, pred_y)\n",
    "print(cm)\n",
    "tn, fp, fn, tp = cm.ravel()\n",
    "print(\"True negatives : \", tn, \"\\n\" \"False positives : \", fp, \"\\n\" \"False negatives : \", fn, \"\\n\" \"True positives : \", tp)\n",
    "\n",
    "#Plotting confusion matrices\n",
    "mat = confusion_matrix(val_y, pred_y)\n",
    "sns.heatmap(mat.T, square = True, annot = True, fmt = 'd', cbar = False)\n",
    "plt.xlabel('true label')\n",
    "plt.ylabel('predicted label');\n",
    "\n",
    "score = roc_auc_score(val_y, pred_y)\n",
    "print(\"Overall AUC: {:.3f}\" .format(score))\n",
    "\n",
    "print(precision_recall_fscore_support(val_y, pred_y, average = 'macro'))\n",
    "\n",
    "print(metrics.classification_report(val_y, pred_y))"
   ]
  },
  {
   "cell_type": "markdown",
   "metadata": {},
   "source": [
    "# Selecting Features"
   ]
  },
  {
   "cell_type": "code",
   "execution_count": 38,
   "metadata": {},
   "outputs": [],
   "source": [
    "#Selecting input features and target label\n",
    "combined_data1 = train_data[cols]\n"
   ]
  },
  {
   "cell_type": "code",
   "execution_count": 39,
   "metadata": {},
   "outputs": [
    {
     "name": "stdout",
     "output_type": "stream",
     "text": [
      "Num Features: 9\n",
      "Selected Features: [ True  True  True  True  True  True  True  True  True]\n",
      "Feature Ranking: [1 1 1 1 1 1 1 1 1]\n",
      "[0 1 2 3 4 5 6 7 8]\n",
      "['Age', 'Gender', 'Prescription_period', 'Diabetes', 'Alcoholism', 'HyperTension', 'Smokes', 'Tuberculosis', 'Sms_Reminder']\n"
     ]
    },
    {
     "data": {
      "text/plain": [
       "['Age',\n",
       " 'Gender',\n",
       " 'Prescription_period',\n",
       " 'Diabetes',\n",
       " 'Alcoholism',\n",
       " 'HyperTension',\n",
       " 'Smokes',\n",
       " 'Tuberculosis',\n",
       " 'Sms_Reminder']"
      ]
     },
     "execution_count": 39,
     "metadata": {},
     "output_type": "execute_result"
    }
   ],
   "source": [
    "\n",
    "#Selecting features through recursive feature elimination\n",
    "rfe = RFE(logisticRegr, 9)\n",
    "fit = rfe.fit(X, y)\n",
    "print(\"Num Features: %d\" % fit.n_features_)\n",
    "print(\"Selected Features: %s\" % fit.support_)\n",
    "print(\"Feature Ranking: %s\" % fit.ranking_)\n",
    "\n",
    "f = fit.get_support(1)\n",
    "print(f)\n",
    "\n",
    "combined_data2 = combined_data1[combined_data1.columns[f]]\n",
    "print(combined_data2.columns.tolist())\n",
    "#combined_data2.head()\n",
    "predictors = combined_data2.columns.tolist()\n",
    "predictors\n",
    "# X_logr = combined_data1[predictors] #Setting the predictors\n",
    "# y_logr = combined_data1.HavingFlu  #Setting the target label\n",
    "\n",
    "# train_X, val_X, train_y, val_y = train_test_split(X_logr, y_logr, random_state = 0, test_size = 0.3)"
   ]
  },
  {
   "cell_type": "code",
   "execution_count": null,
   "metadata": {},
   "outputs": [],
   "source": []
  }
 ],
 "metadata": {
  "kernelspec": {
   "display_name": "Python 3",
   "language": "python",
   "name": "python3"
  },
  "language_info": {
   "codemirror_mode": {
    "name": "ipython",
    "version": 3
   },
   "file_extension": ".py",
   "mimetype": "text/x-python",
   "name": "python",
   "nbconvert_exporter": "python",
   "pygments_lexer": "ipython3",
   "version": "3.6.5"
  }
 },
 "nbformat": 4,
 "nbformat_minor": 2
}
